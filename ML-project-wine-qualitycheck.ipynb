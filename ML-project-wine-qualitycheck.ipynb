{
 "cells": [
  {
   "cell_type": "code",
   "execution_count": 1,
   "metadata": {},
   "outputs": [],
   "source": [
    "import pandas as pd\n",
    "import numpy as np\n",
    "from sklearn import preprocessing\n",
    "from sklearn.ensemble import RandomForestRegressor\n",
    "from sklearn.pipeline import make_pipeline\n",
    "from sklearn.model_selection import GridSearchCV, train_test_split\n",
    "from sklearn.metrics import mean_squared_error,r2_score\n",
    "from sklearn.externals import joblib\n",
    "from sklearn.metrics import accuracy_score"
   ]
  },
  {
   "cell_type": "code",
   "execution_count": 2,
   "metadata": {},
   "outputs": [],
   "source": [
    "#load wine-datset\n",
    "dataset_url = 'http://mlr.cs.umass.edu/ml/machine-learning-databases/wine-quality/winequality-red.csv'\n",
    "data = pd.read_csv(dataset_url)"
   ]
  },
  {
   "cell_type": "code",
   "execution_count": 3,
   "metadata": {},
   "outputs": [],
   "source": [
    "#read dataset by separating semicolon\n",
    "data = pd.read_csv(dataset_url, sep=';')"
   ]
  },
  {
   "cell_type": "code",
   "execution_count": 4,
   "metadata": {},
   "outputs": [
    {
     "name": "stdout",
     "output_type": "stream",
     "text": [
      "   fixed acidity  volatile acidity  citric acid  residual sugar  chlorides  \\\n",
      "0            7.4               0.7          0.0             1.9      0.076   \n",
      "\n",
      "   free sulfur dioxide  total sulfur dioxide  density    pH  sulphates  \\\n",
      "0                 11.0                  34.0   0.9978  3.51       0.56   \n",
      "\n",
      "   alcohol  quality  \n",
      "0      9.4        5  \n",
      "(1599, 12)\n",
      "       fixed acidity  volatile acidity  citric acid  residual sugar  \\\n",
      "count    1599.000000       1599.000000  1599.000000     1599.000000   \n",
      "mean        8.319637          0.527821     0.270976        2.538806   \n",
      "std         1.741096          0.179060     0.194801        1.409928   \n",
      "min         4.600000          0.120000     0.000000        0.900000   \n",
      "25%         7.100000          0.390000     0.090000        1.900000   \n",
      "50%         7.900000          0.520000     0.260000        2.200000   \n",
      "75%         9.200000          0.640000     0.420000        2.600000   \n",
      "max        15.900000          1.580000     1.000000       15.500000   \n",
      "\n",
      "         chlorides  free sulfur dioxide  total sulfur dioxide      density  \\\n",
      "count  1599.000000          1599.000000           1599.000000  1599.000000   \n",
      "mean      0.087467            15.874922             46.467792     0.996747   \n",
      "std       0.047065            10.460157             32.895324     0.001887   \n",
      "min       0.012000             1.000000              6.000000     0.990070   \n",
      "25%       0.070000             7.000000             22.000000     0.995600   \n",
      "50%       0.079000            14.000000             38.000000     0.996750   \n",
      "75%       0.090000            21.000000             62.000000     0.997835   \n",
      "max       0.611000            72.000000            289.000000     1.003690   \n",
      "\n",
      "                pH    sulphates      alcohol      quality  \n",
      "count  1599.000000  1599.000000  1599.000000  1599.000000  \n",
      "mean      3.311113     0.658149    10.422983     5.636023  \n",
      "std       0.154386     0.169507     1.065668     0.807569  \n",
      "min       2.740000     0.330000     8.400000     3.000000  \n",
      "25%       3.210000     0.550000     9.500000     5.000000  \n",
      "50%       3.310000     0.620000    10.200000     6.000000  \n",
      "75%       3.400000     0.730000    11.100000     6.000000  \n",
      "max       4.010000     2.000000    14.900000     8.000000  \n"
     ]
    }
   ],
   "source": [
    "#data analyze\n",
    "print(data.head(1))\n",
    "print(data.shape)\n",
    "print(data.describe())"
   ]
  },
  {
   "cell_type": "code",
   "execution_count": 5,
   "metadata": {},
   "outputs": [],
   "source": [
    "#declare independet and dependent variabls\n",
    "\n",
    "y = data.quality\n",
    "x = data.drop('quality', axis=1)\n",
    "\n",
    "\n",
    "#split data into training & testing\n",
    "\n",
    "x_train, x_test, y_train, y_test = train_test_split(x, y, test_size=0.2, random_state=123, stratify=y)"
   ]
  },
  {
   "cell_type": "code",
   "execution_count": 6,
   "metadata": {},
   "outputs": [
    {
     "data": {
      "text/plain": [
       "GridSearchCV(cv=10, error_score='raise-deprecating',\n",
       "       estimator=Pipeline(memory=None,\n",
       "     steps=[('standardscaler', StandardScaler(copy=True, with_mean=True, with_std=True)), ('randomforestregressor', RandomForestRegressor(bootstrap=True, criterion='mse', max_depth=None,\n",
       "           max_features='auto', max_leaf_nodes=None,\n",
       "           min_impurity_decr...ors=100, n_jobs=None,\n",
       "           oob_score=False, random_state=None, verbose=0, warm_start=False))]),\n",
       "       fit_params=None, iid='warn', n_jobs=None,\n",
       "       param_grid={'randomforestregressor__max_features': ['auto', 'sqrt', 'log2'], 'randomforestregressor__max_depth': [None, 5, 3, 1]},\n",
       "       pre_dispatch='2*n_jobs', refit=True, return_train_score='warn',\n",
       "       scoring=None, verbose=0)"
      ]
     },
     "execution_count": 6,
     "metadata": {},
     "output_type": "execute_result"
    }
   ],
   "source": [
    "#pipeline with preprosessing model-parameters\n",
    "pipeline = make_pipeline(preprocessing.StandardScaler(),RandomForestRegressor(n_estimators=100))\n",
    "\n",
    "\n",
    "#declare random forest hyper parametrs to tune\n",
    "hyperparameters = { 'randomforestregressor__max_features' : ['auto', 'sqrt', 'log2'], 'randomforestregressor__max_depth': [None, 5, 3, 1]}\n",
    "\n",
    "#sklearn cross-validaion pipeline\n",
    "model = GridSearchCV(pipeline, hyperparameters, cv=10)\n",
    "model.fit(x_train, y_train)"
   ]
  },
  {
   "cell_type": "code",
   "execution_count": 7,
   "metadata": {},
   "outputs": [
    {
     "name": "stdout",
     "output_type": "stream",
     "text": [
      "{'randomforestregressor__max_depth': None, 'randomforestregressor__max_features': 'auto'}\n"
     ]
    }
   ],
   "source": [
    "print(model.best_params_)"
   ]
  },
  {
   "cell_type": "code",
   "execution_count": 8,
   "metadata": {},
   "outputs": [
    {
     "name": "stdout",
     "output_type": "stream",
     "text": [
      "True\n"
     ]
    }
   ],
   "source": [
    "#Conveniently, GridSearchCV from sklearn will automatically refit the model with the best set of hyperparameters using the entire training set.\n",
    "print(model.refit)"
   ]
  },
  {
   "cell_type": "code",
   "execution_count": 9,
   "metadata": {},
   "outputs": [
    {
     "data": {
      "text/plain": [
       "array([6.53, 5.77, 4.99, 5.58, 6.41, 5.6 , 4.83, 4.7 , 5.01, 6.05, 5.21,\n",
       "       5.66, 5.81, 5.08, 5.79, 5.57, 6.7 , 5.72, 5.73, 6.98, 5.54, 5.74,\n",
       "       4.99, 6.05, 5.91, 5.05, 5.54, 5.14, 6.03, 5.97, 5.92, 6.71, 6.02,\n",
       "       5.01, 4.92, 5.96, 4.99, 5.91, 5.12, 5.72, 4.84, 5.86, 6.76, 5.13,\n",
       "       6.21, 5.42, 5.59, 5.5 , 5.05, 6.61, 5.84, 5.2 , 5.91, 5.14, 5.61,\n",
       "       5.74, 5.22, 5.3 , 4.99, 5.35, 5.36, 5.17, 5.06, 5.81, 5.89, 5.19,\n",
       "       6.36, 5.08, 5.09, 6.69, 5.8 , 5.51, 5.04, 4.99, 5.33, 5.96, 5.24,\n",
       "       5.1 , 5.29, 5.14, 6.51, 5.58, 6.21, 6.59, 5.11, 5.96, 6.53, 6.12,\n",
       "       5.52, 5.57, 5.82, 5.29, 6.45, 5.71, 5.78, 5.82, 6.63, 6.67, 5.5 ,\n",
       "       6.83, 5.02, 5.49, 5.07, 6.68, 5.02, 4.64, 5.72, 5.06, 5.55, 5.97,\n",
       "       5.76, 5.61, 6.1 , 5.41, 5.21, 5.25, 5.89, 5.02, 4.94, 6.05, 5.82,\n",
       "       5.06, 5.79, 5.89, 5.14, 5.29, 5.43, 5.88, 5.52, 5.47, 5.57, 6.32,\n",
       "       5.1 , 5.29, 5.06, 6.53, 5.01, 5.15, 6.7 , 5.38, 5.18, 5.07, 5.64,\n",
       "       6.12, 5.37, 5.44, 5.14, 6.71, 5.45, 5.08, 5.6 , 5.15, 4.84, 4.95,\n",
       "       5.23, 5.95, 5.38, 5.73, 5.86, 5.19, 5.6 , 5.23, 5.21, 5.99, 5.04,\n",
       "       6.02, 5.17, 5.27, 5.48, 5.13, 5.72, 4.95, 5.55, 5.12, 5.52, 5.45,\n",
       "       5.07, 5.36, 5.59, 5.03, 6.04, 5.52, 5.  , 4.88, 5.22, 6.12, 5.16,\n",
       "       5.67, 5.23, 4.91, 5.34, 6.6 , 5.84, 5.99, 5.38, 5.25, 5.43, 5.11,\n",
       "       6.25, 4.7 , 6.28, 5.02, 5.3 , 5.24, 6.88, 5.95, 5.44, 5.22, 5.54,\n",
       "       5.88, 5.99, 5.89, 5.98, 6.42, 5.68, 5.96, 5.25, 5.37, 5.56, 5.15,\n",
       "       5.24, 5.94, 6.03, 5.52, 6.03, 5.79, 5.58, 6.11, 5.39, 5.62, 5.46,\n",
       "       5.44, 6.17, 5.89, 4.93, 4.26, 6.87, 6.61, 6.5 , 5.34, 5.44, 5.5 ,\n",
       "       5.42, 6.18, 5.83, 5.13, 5.04, 5.36, 5.27, 6.54, 5.13, 5.04, 5.25,\n",
       "       5.04, 5.82, 6.5 , 5.71, 5.36, 5.44, 6.33, 5.41, 6.01, 5.2 , 5.21,\n",
       "       5.84, 5.79, 5.89, 5.62, 5.26, 5.12, 5.76, 5.6 , 6.39, 6.22, 5.61,\n",
       "       5.01, 5.92, 6.77, 5.99, 5.49, 5.68, 5.16, 5.5 , 6.01, 6.91, 5.35,\n",
       "       6.77, 5.92, 5.37, 5.36, 5.96, 5.03, 5.16, 6.25, 5.73, 5.96, 6.01,\n",
       "       5.96, 5.44, 5.6 , 5.51, 6.19, 5.59, 6.84, 6.94, 5.98, 6.15, 5.07,\n",
       "       5.37, 5.96, 5.29, 5.35, 5.95, 6.69, 6.77, 5.29, 5.55, 5.75, 5.99,\n",
       "       5.54])"
      ]
     },
     "execution_count": 9,
     "metadata": {},
     "output_type": "execute_result"
    }
   ],
   "source": [
    "#prediction\n",
    "\n",
    "y_pred = model.predict(x_test)\n",
    "y_pred"
   ]
  },
  {
   "cell_type": "code",
   "execution_count": 10,
   "metadata": {},
   "outputs": [
    {
     "name": "stdout",
     "output_type": "stream",
     "text": [
      "0.335678125\n",
      "-0.3829174541171618\n"
     ]
    }
   ],
   "source": [
    "#evaluating model\n",
    "\n",
    "print(mean_squared_error(y_pred, y_test))\n",
    "print(r2_score(y_pred, y_test))"
   ]
  },
  {
   "cell_type": "code",
   "execution_count": null,
   "metadata": {},
   "outputs": [],
   "source": []
  }
 ],
 "metadata": {
  "kernelspec": {
   "display_name": "Python 3",
   "language": "python",
   "name": "python3"
  },
  "language_info": {
   "codemirror_mode": {
    "name": "ipython",
    "version": 3
   },
   "file_extension": ".py",
   "mimetype": "text/x-python",
   "name": "python",
   "nbconvert_exporter": "python",
   "pygments_lexer": "ipython3",
   "version": "3.7.3"
  }
 },
 "nbformat": 4,
 "nbformat_minor": 2
}
